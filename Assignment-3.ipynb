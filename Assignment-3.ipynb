{
 "cells": [
  {
   "cell_type": "markdown",
   "id": "e156d463",
   "metadata": {},
   "source": [
    "# 1. Why are functions advantageous to have in your programs?\n"
   ]
  },
  {
   "cell_type": "markdown",
   "id": "dc53f584",
   "metadata": {},
   "source": [
    "1. After creating a function, it makes easy to use and make the code readable and understandable.\n",
    "2. we can execute the function after calling the function.\n",
    "3. After Defining a function, we just need to call the function the code with function execute.\n",
    "4. We do not need to write the code again and again.just by calling we can execute it.\n",
    "5. Decompose the code into smaller pieces."
   ]
  },
  {
   "cell_type": "markdown",
   "id": "56cd25c5",
   "metadata": {},
   "source": [
    "# 2. When does the code in a function run: when it&#39;s specified or when it&#39;s called?"
   ]
  },
  {
   "cell_type": "markdown",
   "id": "59b1e4b1",
   "metadata": {},
   "source": [
    "A function only runs when it is called."
   ]
  },
  {
   "cell_type": "code",
   "execution_count": 3,
   "id": "c244f010",
   "metadata": {},
   "outputs": [],
   "source": [
    "def name():\n",
    "    return \"geet\""
   ]
  },
  {
   "cell_type": "code",
   "execution_count": 4,
   "id": "bc42bf02",
   "metadata": {},
   "outputs": [
    {
     "data": {
      "text/plain": [
       "'geet'"
      ]
     },
     "execution_count": 4,
     "metadata": {},
     "output_type": "execute_result"
    }
   ],
   "source": [
    "name()"
   ]
  },
  {
   "cell_type": "markdown",
   "id": "a9656938",
   "metadata": {},
   "source": [
    "# 3. What statement creates a function? "
   ]
  },
  {
   "cell_type": "markdown",
   "id": "f49b2bf8",
   "metadata": {},
   "source": [
    "def keyword is used to create a function.\n",
    "ex:"
   ]
  },
  {
   "cell_type": "code",
   "execution_count": 6,
   "id": "e48977dc",
   "metadata": {},
   "outputs": [
    {
     "data": {
      "text/plain": [
       "5"
      ]
     },
     "execution_count": 6,
     "metadata": {},
     "output_type": "execute_result"
    }
   ],
   "source": [
    "def add(a,b):\n",
    "    return a+b\n",
    "add(2,3)"
   ]
  },
  {
   "cell_type": "markdown",
   "id": "9fa73bda",
   "metadata": {},
   "source": [
    "# 4. What is the difference between a function and a function call?"
   ]
  },
  {
   "cell_type": "markdown",
   "id": "21604173",
   "metadata": {},
   "source": [
    "function is a block of code which only runs when it is called."
   ]
  },
  {
   "cell_type": "code",
   "execution_count": 14,
   "id": "aba44b03",
   "metadata": {},
   "outputs": [],
   "source": [
    "def name():\n",
    "    print(\"my name is geetika\")"
   ]
  },
  {
   "cell_type": "markdown",
   "id": "6bdbd4cf",
   "metadata": {},
   "source": [
    "To call the function use the function name followed by parenthesis"
   ]
  },
  {
   "cell_type": "code",
   "execution_count": 15,
   "id": "d7a17353",
   "metadata": {},
   "outputs": [
    {
     "name": "stdout",
     "output_type": "stream",
     "text": [
      "my name is geetika\n"
     ]
    }
   ],
   "source": [
    "name()"
   ]
  },
  {
   "cell_type": "markdown",
   "id": "746a210f",
   "metadata": {},
   "source": [
    "Also pass arguments in the function name"
   ]
  },
  {
   "cell_type": "code",
   "execution_count": 21,
   "id": "3603f506",
   "metadata": {},
   "outputs": [],
   "source": [
    "def add(a,b):\n",
    "    return a+b\n",
    "\n",
    "def sub(a,b):\n",
    "    return a-b\n",
    "\n"
   ]
  },
  {
   "cell_type": "code",
   "execution_count": 22,
   "id": "dc4333fd",
   "metadata": {},
   "outputs": [
    {
     "data": {
      "text/plain": [
       "6"
      ]
     },
     "execution_count": 22,
     "metadata": {},
     "output_type": "execute_result"
    }
   ],
   "source": [
    "add(2,4)"
   ]
  },
  {
   "cell_type": "code",
   "execution_count": 23,
   "id": "894d3ad9",
   "metadata": {},
   "outputs": [
    {
     "data": {
      "text/plain": [
       "1"
      ]
     },
     "execution_count": 23,
     "metadata": {},
     "output_type": "execute_result"
    }
   ],
   "source": [
    "sub(6,5)"
   ]
  },
  {
   "cell_type": "markdown",
   "id": "d67ec9a8",
   "metadata": {},
   "source": [
    "# 5. How many global scopes are there in a Python program? How many local scopes?"
   ]
  },
  {
   "cell_type": "markdown",
   "id": "bd4c9dab",
   "metadata": {},
   "source": [
    "Global scope:\n",
    "There is only one global python scope per program execution. this scope is available to all code.\n"
   ]
  },
  {
   "cell_type": "markdown",
   "id": "cde97fb4",
   "metadata": {},
   "source": [
    "local scope: this scope is only available or visible to the code within in the scope\n",
    "    "
   ]
  },
  {
   "cell_type": "markdown",
   "id": "be83ee49",
   "metadata": {},
   "source": [
    "# 6. What happens to variables in a local scope when the function call returns?"
   ]
  },
  {
   "cell_type": "markdown",
   "id": "6f564571",
   "metadata": {},
   "source": [
    "When the function call returns, the local scope is destroyed. "
   ]
  },
  {
   "cell_type": "markdown",
   "id": "156c882c",
   "metadata": {},
   "source": [
    "# 7. What is the concept of a return value? Is it possible to have a return value in an expression?"
   ]
  },
  {
   "cell_type": "markdown",
   "id": "53c4d3a7",
   "metadata": {},
   "source": [
    "return is a keyword.return statement is used to return the result. return statement can not be used outside the function.\n",
    "It is also possible to return a value in an expression."
   ]
  },
  {
   "cell_type": "code",
   "execution_count": 4,
   "id": "52328698",
   "metadata": {},
   "outputs": [
    {
     "data": {
      "text/plain": [
       "19"
      ]
     },
     "execution_count": 4,
     "metadata": {},
     "output_type": "execute_result"
    }
   ],
   "source": [
    "def sum(a,b):\n",
    "    return a+b#return statement\n",
    "sum(9,10)"
   ]
  },
  {
   "cell_type": "markdown",
   "id": "dada8535",
   "metadata": {},
   "source": [
    "# 8. If a function does not have a return statement, what is the return value of a call to that function?"
   ]
  },
  {
   "cell_type": "markdown",
   "id": "95e964bb",
   "metadata": {},
   "source": [
    "It returns None after"
   ]
  },
  {
   "cell_type": "code",
   "execution_count": 19,
   "id": "f14ce6d5",
   "metadata": {},
   "outputs": [
    {
     "name": "stdout",
     "output_type": "stream",
     "text": [
      "None\n"
     ]
    }
   ],
   "source": [
    "def name():\n",
    "    pass\n",
    "a = name()\n",
    "print(a)"
   ]
  },
  {
   "cell_type": "markdown",
   "id": "8e314e97",
   "metadata": {},
   "source": [
    "# 9. How do you make a function variable refer to the global variable?"
   ]
  },
  {
   "cell_type": "markdown",
   "id": "13219297",
   "metadata": {},
   "source": [
    "A global statement will force a variable in a function to refer to the global variable."
   ]
  },
  {
   "cell_type": "markdown",
   "id": "58b4c1cd",
   "metadata": {},
   "source": [
    "# 10. What is the data type of None?"
   ]
  },
  {
   "cell_type": "markdown",
   "id": "f69a4af1",
   "metadata": {},
   "source": [
    "None keyword is used to define a null variable or object. None datatype does not contain any value."
   ]
  },
  {
   "cell_type": "markdown",
   "id": "ab8f4645",
   "metadata": {},
   "source": [
    "# 11. What does the sentence import areallyourpetsnamederic do?"
   ]
  },
  {
   "cell_type": "code",
   "execution_count": null,
   "id": "93b3ddb2",
   "metadata": {},
   "outputs": [],
   "source": []
  },
  {
   "cell_type": "markdown",
   "id": "9ba18f11",
   "metadata": {},
   "source": [
    "# 12. If you had a bacon() feature in a spam module, what would you call it after importing spam?"
   ]
  },
  {
   "cell_type": "markdown",
   "id": "ceac45f8",
   "metadata": {},
   "source": [
    "spam.bacon()"
   ]
  },
  {
   "cell_type": "markdown",
   "id": "6c2fd4b4",
   "metadata": {},
   "source": [
    "# 13. What can you do to save a programme from crashing if it encounters an error?"
   ]
  },
  {
   "cell_type": "markdown",
   "id": "98712cd2",
   "metadata": {},
   "source": [
    "Use the exception handling and place this line of code in try and except block."
   ]
  },
  {
   "cell_type": "markdown",
   "id": "d56b8032",
   "metadata": {},
   "source": [
    "# 14. What is the purpose of the try clause? What is the purpose of the except clause?"
   ]
  },
  {
   "cell_type": "markdown",
   "id": "d1b35362",
   "metadata": {},
   "source": [
    "The try clause that show if some error occurs .\n",
    "the except clause that if the error occurs in the  try block it will handled and executed in the except block."
   ]
  },
  {
   "cell_type": "code",
   "execution_count": null,
   "id": "2be246fc",
   "metadata": {},
   "outputs": [],
   "source": []
  }
 ],
 "metadata": {
  "kernelspec": {
   "display_name": "Python 3 (ipykernel)",
   "language": "python",
   "name": "python3"
  },
  "language_info": {
   "codemirror_mode": {
    "name": "ipython",
    "version": 3
   },
   "file_extension": ".py",
   "mimetype": "text/x-python",
   "name": "python",
   "nbconvert_exporter": "python",
   "pygments_lexer": "ipython3",
   "version": "3.9.7"
  }
 },
 "nbformat": 4,
 "nbformat_minor": 5
}
